{
 "cells": [
  {
   "cell_type": "markdown",
   "id": "598f80df-c956-49c2-94e4-f0f2a4e1eff5",
   "metadata": {},
   "source": [
    "#### Q.1> who develope the python programming language "
   ]
  },
  {
   "cell_type": "markdown",
   "id": "8c4c6ffa-d316-4c76-9cc8-d5d160c84203",
   "metadata": {},
   "source": [
    "#### ASNWER"
   ]
  },
  {
   "cell_type": "markdown",
   "id": "53af2931-456b-455e-af1c-ccc76f4195ff",
   "metadata": {},
   "source": [
    "##### Python programming language was developed by Guido van Rossum and first released in 1991. Since then, Python has been further developed by a large community of developers and is now maintained by the Python Software Foundation."
   ]
  },
  {
   "cell_type": "markdown",
   "id": "7173b332-571f-4192-b960-3a265cb11a2d",
   "metadata": {},
   "source": [
    "### Q.2> which type of programming does python support"
   ]
  },
  {
   "cell_type": "markdown",
   "id": "d8a9ae2f-4431-4c74-bd48-da76e9018458",
   "metadata": {},
   "source": [
    "#### ASNWER"
   ]
  },
  {
   "cell_type": "markdown",
   "id": "52b85a0f-4d02-430b-a620-4dbac724c7bb",
   "metadata": {},
   "source": [
    "##### Python is a general-purpose programming language that supports multiple programming paradigms, including:\n",
    "\n",
    "#### Procedural programming: Python supports the basic concepts of procedural programming, such as functions, loops, and conditional statements.\n",
    "\n",
    "#### Object-oriented programming (OOP): Python supports OOP concepts such as classes, objects, encapsulation, inheritance, and polymorphism.\n",
    "\n",
    "#### Functional programming: Python supports functional programming concepts such as lambda functions, map, filter, and reduce functions.\n",
    "\n",
    "#### Scripting: Python can be used as a scripting language for automating tasks, and can be easily integrated with other languages and tools.\n",
    "\n",
    "#### Modular programming: Python supports modular programming by allowing developers to organize code into modules and packages for better code reusability and maintainability.\n",
    "\n",
    "#### Data science: Python has become a popular language for data science and machine learning due to the availability of libraries such as NumPy, Pandas, Matplotlib, and Scikit-learn. "
   ]
  },
  {
   "cell_type": "markdown",
   "id": "a07f2dc9-8554-4da0-80f6-dd62c19ffeb3",
   "metadata": {},
   "source": [
    "### Q.3> Is python case ssensitive when dealing with identifiers"
   ]
  },
  {
   "cell_type": "markdown",
   "id": "7f51abfb-9478-472e-bf06-c21ccebc142a",
   "metadata": {},
   "source": [
    "#### ASNWER"
   ]
  },
  {
   "cell_type": "markdown",
   "id": "d93d93c9-00a2-4014-8fc9-80bdb6aaf137",
   "metadata": {},
   "source": [
    "#### Python is case sensitive when it comes to identifiers such as variable names, function names, and class names. This means that the identifiers myVar, myvar, and MYVAR are considered to be different by Python and can be used to refer to different variables or functions."
   ]
  },
  {
   "cell_type": "markdown",
   "id": "6493b274-aab9-458e-a711-7c29b0999cfc",
   "metadata": {},
   "source": [
    "### Q.4> what is the correct extension of the python file"
   ]
  },
  {
   "cell_type": "markdown",
   "id": "5c1319fa-d1ea-43e2-a9f4-a88dcd914518",
   "metadata": {},
   "source": [
    "#### ASNWER"
   ]
  },
  {
   "cell_type": "markdown",
   "id": "c426198e-5500-431f-b91c-60aad8b1c190",
   "metadata": {},
   "source": [
    "##### The correct extension for a Python file is .py.\n",
    "\n",
    "##### For example, if you have a Python program that you want to save in a file, you should give the file a name that ends with the .py extension. For instance, if your program is called \"hello world\", you should save it in a file with the name \"hello_world.py\"."
   ]
  },
  {
   "cell_type": "markdown",
   "id": "9f9a7f0f-5210-4101-b567-b7efb51d8a27",
   "metadata": {},
   "source": [
    "### Q.5> Is python code compiled or interpreted"
   ]
  },
  {
   "cell_type": "markdown",
   "id": "062c949a-4b14-43ff-9ef3-72ed5d020f1c",
   "metadata": {},
   "source": [
    "#### ASNWER"
   ]
  },
  {
   "cell_type": "markdown",
   "id": "347b5898-f5ae-496b-94cd-4cf21947bf51",
   "metadata": {},
   "source": [
    "##### Python code is interpreted, not compiled. When you run a Python program, the Python interpreter reads the source code of the program line by line, and executes each line as it is read\n",
    "##### This is different from compiled languages like C or Java, where the code is compiled into executable machine code before it is run. In compiled languages, the compiled code can be executed directly by the operating system without the need for an interpreter."
   ]
  },
  {
   "cell_type": "markdown",
   "id": "2be11635-0542-477a-8dfb-48fc7693e406",
   "metadata": {},
   "source": [
    "### Q.6> Name a few blocks of code used to define in python language "
   ]
  },
  {
   "cell_type": "markdown",
   "id": "d5ed1061-19d5-4090-bfc9-d8e491f1ffe0",
   "metadata": {},
   "source": [
    "#### ASNWER"
   ]
  },
  {
   "cell_type": "markdown",
   "id": "ca29d106-011a-460c-bec8-8241d73a0641",
   "metadata": {},
   "source": [
    "##### In Python, code blocks are defined using indentation. A block of code is a group of statements that are indented at the same level and are executed as a unit."
   ]
  },
  {
   "cell_type": "markdown",
   "id": "7a42da98-40a5-48d0-b0b9-ae3011dda905",
   "metadata": {},
   "source": [
    "##### EXAMPLES"
   ]
  },
  {
   "cell_type": "markdown",
   "id": "ac282ab4-a125-4a0b-9638-1c8d6be6a31d",
   "metadata": {},
   "source": [
    "#### If-else statements:"
   ]
  },
  {
   "cell_type": "code",
   "execution_count": null,
   "id": "6e4c7865-b0b2-4a72-92ba-1deeefbd9f18",
   "metadata": {},
   "outputs": [],
   "source": [
    "if condition:\n",
    "    # statements to execute if condition is true\n",
    "else:\n",
    "    # statements to execute if condition is false\n"
   ]
  },
  {
   "cell_type": "markdown",
   "id": "abe3941f-1f45-4671-bd4f-b7db70a8f660",
   "metadata": {},
   "source": [
    "##### For loop:"
   ]
  },
  {
   "cell_type": "code",
   "execution_count": null,
   "id": "15804bcb-f99e-4b46-ac30-8a076e97c905",
   "metadata": {},
   "outputs": [],
   "source": [
    "for variable in sequence:\n",
    "    # statements to execute in each iteration of the loop\n"
   ]
  },
  {
   "cell_type": "markdown",
   "id": "c468a3e7-ddcf-433b-830f-ea6db42e3af5",
   "metadata": {},
   "source": [
    "### Q.7> state a character used to give a single-line comments in python"
   ]
  },
  {
   "cell_type": "markdown",
   "id": "62718ffe-a05d-4018-b9c7-4aa8ad541f9d",
   "metadata": {},
   "source": [
    "#### ANSWER"
   ]
  },
  {
   "cell_type": "markdown",
   "id": "ec923039-38d5-4ce0-8927-69ccaf8a5952",
   "metadata": {},
   "source": [
    "##### In Python, the character used to give a single-line comment is the hash symbol (#). Any text that appears after the hash symbol on a line is treated as a comment and is ignored by the Python interpreter."
   ]
  },
  {
   "cell_type": "markdown",
   "id": "107311d3-f805-4abd-a2cb-a963887a0282",
   "metadata": {},
   "source": [
    "### Q.8> Mention functions which can helps us to find the version of python that we are currently working on\n",
    "\n"
   ]
  },
  {
   "cell_type": "markdown",
   "id": "b48ab8cd-cb53-4b27-bfaf-8c0cf020b176",
   "metadata": {},
   "source": [
    "#### ASNWER"
   ]
  },
  {
   "cell_type": "markdown",
   "id": "be812d5b-9ec8-4e04-991d-0403ad132418",
   "metadata": {},
   "source": [
    "##### In Python, you can use several functions and attributes to find the version of Python that you are currently working on."
   ]
  },
  {
   "cell_type": "markdown",
   "id": "b0454dca-c210-4ea6-8ab5-d230030dd2a0",
   "metadata": {},
   "source": [
    "##### some are there"
   ]
  },
  {
   "cell_type": "markdown",
   "id": "1141005d-61ca-4ce2-b68a-29b63d9ae56f",
   "metadata": {},
   "source": [
    "##### sys.version attribute:"
   ]
  },
  {
   "cell_type": "markdown",
   "id": "76792a15-146a-4453-8bab-62e45a70e64c",
   "metadata": {},
   "source": [
    "##### platform.python_version()"
   ]
  },
  {
   "cell_type": "markdown",
   "id": "f04e519d-ddb5-482c-a3c8-1232e6f27336",
   "metadata": {},
   "source": [
    "##### sys.version_info"
   ]
  },
  {
   "cell_type": "markdown",
   "id": "363a4945-72ae-409a-b41a-e1f8efef7a0e",
   "metadata": {},
   "source": [
    "##### platform.python_implementation()"
   ]
  },
  {
   "cell_type": "markdown",
   "id": "7ffd0e63-7a63-4022-9a6e-88ebf9d11ce9",
   "metadata": {},
   "source": [
    "### Q.9> Python supports the creation of anonymous function at runtime , using a construct called _ _ _ _ _"
   ]
  },
  {
   "cell_type": "markdown",
   "id": "ea102b1e-f9e2-4896-b227-d5671036cd70",
   "metadata": {},
   "source": [
    "#### ANSWER"
   ]
  },
  {
   "cell_type": "markdown",
   "id": "a123eced-aa8d-4608-ab4e-56cef5f54339",
   "metadata": {},
   "source": [
    "##### Python supports the creation of anonymous functions at runtime using a construct called lambda."
   ]
  },
  {
   "cell_type": "markdown",
   "id": "0a2314a7-a19b-4e6b-b95d-a477d0f9f104",
   "metadata": {},
   "source": [
    "### Q.10> what does pip stand for python"
   ]
  },
  {
   "cell_type": "markdown",
   "id": "4d7b4ef6-e5e1-49f6-8933-e5181d808504",
   "metadata": {},
   "source": [
    "### ASNWER"
   ]
  },
  {
   "cell_type": "markdown",
   "id": "e04fbcc8-039d-4163-8329-c53d64445184",
   "metadata": {},
   "source": [
    "##### In Python, pip stands for \"Pip Installs Packages\". It is a package manager for Python that allows you to easily install and manage third-party Python packages and libraries. pip is included with the Python installation starting from Python 3.4, and it provides a simple command-line interface for installing, upgrading, and removing Python packages from the Python Package Index (PyPI) and other package indexes.\n",
    "\n",
    "##### pip is a widely used tool in the Python ecosystem, and it can save you a lot of time and effort when working with Python projects that require many third-party packages and libraries."
   ]
  },
  {
   "cell_type": "markdown",
   "id": "13ad08dc-e843-489c-aeba-330da378bf70",
   "metadata": {},
   "source": [
    "### Q.11> Mention a few built in function in pyhton "
   ]
  },
  {
   "cell_type": "markdown",
   "id": "d80aedfb-cc58-4e63-bffb-9c1180f036ab",
   "metadata": {},
   "source": [
    "#### ASNWER"
   ]
  },
  {
   "cell_type": "markdown",
   "id": "cbd84bbf-c398-4a7e-ab2b-7d5549b4f36d",
   "metadata": {},
   "source": [
    "##### Python comes with many built-in functions that can be used to perform a wide range of tasks. Here are a few examples:\n",
    "\n",
    "##### print(): This function is used to output text or variables to the console. It can take any number of arguments and prints them to the console, separated by a space by default.\n",
    "\n",
    "##### len(): This function is used to get the length of an object, such as a string, list, or tuple.\n",
    "\n",
    "##### input(): This function is used to get user input from the console. It displays a prompt to the user and waits for them to enter a value, which is then returned as a string.\n",
    "\n",
    "##### range(): This function is used to generate a sequence of numbers. It can take one, two, or three arguments, which specify the start, stop, and step values of the sequence.\n",
    "\n",
    "##### str(), int(), float(), bool(): These functions are used to convert values from one data type to another.\n",
    "\n",
    "##### type(): This function is used to get the data type of an object.\n",
    "\n",
    "##### sum(): This function is used to calculate the sum of a list of numbers.\n",
    "\n",
    "##### max(), min(): These functions are used to find the maximum and minimum values in a list."
   ]
  },
  {
   "cell_type": "markdown",
   "id": "d2e15788-7218-427e-a4e2-96811e05986a",
   "metadata": {},
   "source": [
    "### Q.12> what is the maximum possible length of an identifier in python"
   ]
  },
  {
   "cell_type": "markdown",
   "id": "85aaa110-a52a-449c-9109-b8750b5e9a01",
   "metadata": {},
   "source": [
    "#### ASNWER"
   ]
  },
  {
   "cell_type": "markdown",
   "id": "ebab0c42-f7d3-4080-8c22-52e6aa7785a3",
   "metadata": {},
   "source": [
    "##### the recommended maximum length for identifiers in Python is 79 characters. This is because PEP 8, the official Python style guide, recommends that lines should not exceed 79 characters in length."
   ]
  },
  {
   "cell_type": "markdown",
   "id": "d1f916f6-9cd1-4b58-9822-964e1eae0fed",
   "metadata": {},
   "source": [
    "##### In practice, most Python implementations allow identifiers to be much longer than 79 characters, and it is generally a good practice to keep identifier names concise and meaningful to improve code readability and maintainability."
   ]
  },
  {
   "cell_type": "markdown",
   "id": "6501ff25-1087-4492-98de-7077f8066f66",
   "metadata": {},
   "source": [
    "### Q.13> what are the benefits of using python "
   ]
  },
  {
   "cell_type": "markdown",
   "id": "a5ba3d1f-8b06-44f7-875e-62616f7489e5",
   "metadata": {},
   "source": [
    "#### ASNWER"
   ]
  },
  {
   "cell_type": "markdown",
   "id": "31eb7da2-e7e9-48a0-be5c-bcb955e099c0",
   "metadata": {},
   "source": [
    "##### Python is a popular programming language with many benefits that make it a popular choice for developers. Some of the main benefits of using Python:\n",
    "\n",
    "##### Easy to learn and use: Python has a simple and easy-to-understand syntax that makes it easy for beginners to learn. It is also a very readable language, which makes it easy to maintain and collaborate on code with other developers.\n",
    "\n",
    "##### Versatile: Python is a general-purpose language that can be used for a wide range of applications, including web development, scientific computing, data analysis, artificial intelligence, and more.\n",
    "\n",
    "##### Large standard library: Python comes with a large standard library that includes many modules and functions that can be used for common tasks, such as file I/O, networking, and string manipulation, which can save you time and effort when developing applications.\n",
    "\n",
    "##### Third-party packages: Python has a large and active community of developers who have created many third-party packages and libraries that can be used to extend the functionality of Python and perform complex tasks.\n",
    "\n",
    "##### Interpreted language: Python is an interpreted language, which means that code can be executed directly without the need for compilation. This makes it easy to develop and test code quickly, and can also make it easier to debug code.\n",
    "\n",
    "##### Cross-platform: Python code can be run on a variety of platforms, including Windows, macOS, and Linux, which makes it a great choice for developing applications that need to be run on multiple operating systems.\n",
    "\n"
   ]
  },
  {
   "cell_type": "markdown",
   "id": "30f2053a-9267-4a82-a4ad-9753190393a1",
   "metadata": {},
   "source": [
    "### Q.14> how is memory managed in pyhton "
   ]
  },
  {
   "cell_type": "markdown",
   "id": "f1750a59-2ee9-44c8-bf96-61d826a08039",
   "metadata": {},
   "source": [
    "#### ASNWER"
   ]
  },
  {
   "cell_type": "markdown",
   "id": "fde2e367-ac42-4bcb-b16b-80f2db0d0ebf",
   "metadata": {},
   "source": [
    "##### Python uses a technique called automatic memory management, also known as garbage collection, to manage memory. Automatic memory management means that Python takes care of allocating and deallocating memory as needed, without requiring the programmer to manually manage memory.\n",
    "\n",
    "##### Python's memory manager is responsible for tracking which objects are in use and which are not, and freeing up memory that is no longer being used by the program. When an object is no longer being used, the memory it occupies is automatically reclaimed by the memory manager.\n",
    "\n",
    "##### Python uses a reference counting mechanism to keep track of the number of references to an object. Every time an object is referenced, its reference count is incremented. When an object is no longer needed, its reference count is decremented, and when the reference count reaches zero, the memory occupied by the object is automatically freed.\n",
    "\n",
    "##### In addition to reference counting, Python also uses a garbage collector to detect and reclaim memory that is no longer being used. The garbage collector periodically checks the memory used by the program to identify and free up objects that are no longer needed, even if their reference count has not yet reached zero.\n",
    "\n",
    "##### Overall, Python's automatic memory management makes it easy for developers to focus on writing code without worrying about memory allocation and deallocation, while also ensuring that memory usage is optimized for performance."
   ]
  },
  {
   "cell_type": "markdown",
   "id": "c837979f-bd2e-4e97-b5fa-9a18a934aac1",
   "metadata": {},
   "source": [
    "### Q.15> how to install python on window and set path variables "
   ]
  },
  {
   "cell_type": "markdown",
   "id": "f05afb8b-8632-46db-81e5-11113b48defe",
   "metadata": {},
   "source": [
    "#### ASNWER"
   ]
  },
  {
   "cell_type": "markdown",
   "id": "2ebfb18a-beba-465c-825f-59aaccd90da3",
   "metadata": {},
   "source": [
    "##### To install Python on Windows and set the path variables, you can follow these steps:\n",
    "\n",
    "#####  Download the Python installer from the official website (https://www.python.org/downloads/). Make sure to download the correct version (32-bit or 64-bit) for your Windows operating system.\n",
    "\n",
    "#####  Run the installer and follow the prompts to install Python. You can choose the default settings, or customize the installation by selecting the components you want to install.\n",
    "\n",
    "#####  During the installation, you will be asked if you want to add Python to the PATH environment variable. Make sure to check the box that says \"Add Python to PATH\" to ensure that the Python executable can be found from any directory in the command prompt.\n",
    "\n",
    "#####  Once the installation is complete, you can test that Python is installed and accessible by opening a command prompt and typing \"python\" (without quotes). This should open the Python interpreter and display the version information.\n",
    "\n",
    "#####  If you did not add Python to the PATH during the installation, you can manually add it by following these steps:\n",
    "\n",
    "#####  Right-click on \"This PC\" (or \"My Computer\") and select \"Properties\".\n",
    "#####  Click on \"Advanced system settings\" and then \"Environment Variables\".\n",
    "#####  Under \"System variables\", find the \"Path\" variable and click \"Edit\".\n",
    "#####  Add the path to the Python executable (e.g. C:\\Python39) to the list of paths, separated by a semicolon (;).\n",
    "#####  Click \"OK\" to save the changes.\n",
    "#####  After following these steps, Python should be installed and accessible from any directory in the command prompt on your Windows machine."
   ]
  },
  {
   "cell_type": "code",
   "execution_count": null,
   "id": "7a1c684c-2254-41d9-a9bc-00847a19a6f5",
   "metadata": {},
   "outputs": [],
   "source": [
    "### Q.16> "
   ]
  }
 ],
 "metadata": {
  "kernelspec": {
   "display_name": "Python 3 (ipykernel)",
   "language": "python",
   "name": "python3"
  },
  "language_info": {
   "codemirror_mode": {
    "name": "ipython",
    "version": 3
   },
   "file_extension": ".py",
   "mimetype": "text/x-python",
   "name": "python",
   "nbconvert_exporter": "python",
   "pygments_lexer": "ipython3",
   "version": "3.10.8"
  }
 },
 "nbformat": 4,
 "nbformat_minor": 5
}
